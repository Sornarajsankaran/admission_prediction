{
 "cells": [
  {
   "cell_type": "markdown",
   "id": "82355b7b-3647-4b16-a8d5-ac73b34af2d7",
   "metadata": {},
   "source": [
    "<style>\n",
    "    body {\n",
    "        font-family: Verdana, Geneva, sans-serif;\n",
    "    }\n",
    "</style>"
   ]
  },
  {
   "cell_type": "markdown",
   "id": "07becd32-c70e-4c4c-8068-1d3bae71dc4a",
   "metadata": {},
   "source": [
    "<style>\n",
    "    body {\n",
    "        font-family: Verdana;\n",
    "    }\n",
    "</style>"
   ]
  },
  {
   "cell_type": "code",
   "execution_count": 5,
   "id": "eb8ccf2f-7994-4850-8ffe-8630e10fac66",
   "metadata": {},
   "outputs": [
    {
     "data": {
      "text/html": [
       "\n",
       "<style>\n",
       "    .jp-RenderedHTMLCommon, .jp-RenderedMarkdown {\n",
       "        font-family: 'Verdana', sans-serif !important;\n",
       "        font-size: 16px;\n",
       "        line-height: 2.0;\n",
       "    }\n",
       "</style>\n"
      ],
      "text/plain": [
       "<IPython.core.display.HTML object>"
      ]
     },
     "metadata": {},
     "output_type": "display_data"
    }
   ],
   "source": [
    "from IPython.display import HTML, display\n",
    "\n",
    "display(HTML('''\n",
    "<style>\n",
    "    .jp-RenderedHTMLCommon, .jp-RenderedMarkdown {\n",
    "        font-family: 'Verdana', sans-serif !important;\n",
    "        font-size: 16px;\n",
    "        line-height: 2.0;\n",
    "    }\n",
    "</style>\n",
    "'''))"
   ]
  },
  {
   "cell_type": "markdown",
   "id": "fe752c8b-1c7b-434a-997f-2e59314707b3",
   "metadata": {
    "tags": []
   },
   "source": [
    "#  PYTHON - MODULE 4 ASSIGNMENT\n",
    "---"
   ]
  },
  {
   "cell_type": "markdown",
   "id": "0493d2a8-cc3b-4294-a1ff-0b857c528376",
   "metadata": {},
   "source": [
    "`Question 1 : Explain the Key Features of Python that makes it as a popular choice for programming?` \n",
    "\n"
   ]
  },
  {
   "cell_type": "markdown",
   "id": "8629c5f4-97d4-4297-a031-3e79c04d42ee",
   "metadata": {},
   "source": [
    "The Key features of python that makes it popular choice of programming are as follows:\n",
    "\n",
    "- **Widely Used in Industry**: Python is utilized across various industries, including web development, data science, blockchain, and many more.\n",
    "- **Extensive Library Support**: Python has a vast collection of libraries and frameworks, with around 137,000 libraries available. This includes popular ones like NumPy, Pandas, TensorFlow, Pytorch , Django, and Flask, and many more.\n",
    "- **Huge Active Community**: Python has a large and active community of developers who contribute to its development, offer support, and share knowledge through forums, tutorials, and conferences.\n",
    "- **Ease of Learning**: Python's simple and intuitive syntax makes it an ideal language for beginners and experienced programmers.\n",
    "- **Readability and Simplicity**: Python code is easy to read and write, which helps in maintaining and debugging code faster and easier."
   ]
  },
  {
   "cell_type": "markdown",
   "id": "c7b96597-49d6-403d-89de-874aab000bf4",
   "metadata": {},
   "source": [
    "`Question 2 : Describe the role of predefined keywords in Python and provide examples of how they are used in a program`"
   ]
  },
  {
   "cell_type": "code",
   "execution_count": null,
   "id": "9783054a-4091-4a14-bb57-0086dfa1c561",
   "metadata": {},
   "outputs": [],
   "source": []
  }
 ],
 "metadata": {
  "kernelspec": {
   "display_name": "Python 3 (ipykernel)",
   "language": "python",
   "name": "python3"
  },
  "language_info": {
   "codemirror_mode": {
    "name": "ipython",
    "version": 3
   },
   "file_extension": ".py",
   "mimetype": "text/x-python",
   "name": "python",
   "nbconvert_exporter": "python",
   "pygments_lexer": "ipython3",
   "version": "3.10.8"
  }
 },
 "nbformat": 4,
 "nbformat_minor": 5
}
